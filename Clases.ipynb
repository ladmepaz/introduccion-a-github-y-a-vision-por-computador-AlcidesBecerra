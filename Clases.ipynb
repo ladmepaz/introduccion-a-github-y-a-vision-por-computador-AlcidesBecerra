{
 "cells": [
  {
   "cell_type": "code",
   "execution_count": 1,
   "metadata": {},
   "outputs": [],
   "source": [
    "import numpy as np\n",
    "import matplotlib.pyplot as plt\n",
    "import random"
   ]
  },
  {
   "cell_type": "code",
   "execution_count": 2,
   "metadata": {},
   "outputs": [],
   "source": [
    "R_1 = int(np.random.uniform(1, 254))\n",
    "G_1 = int(np.random.uniform(1, 254))\n",
    "B_1 = int(np.random.uniform(1, 254))\n",
    "\n",
    "\n",
    "R_2 = int(np.random.uniform(1, 254))\n",
    "G_2 = int(np.random.uniform(1, 254))\n",
    "B_2 = int(np.random.uniform(1, 254))\n",
    "\n",
    "R_3 = int(np.random.uniform(1, 254))\n",
    "G_3 = int(np.random.uniform(1, 254))\n",
    "B_3 = int(np.random.uniform(1, 254))"
   ]
  },
  {
   "cell_type": "code",
   "execution_count": null,
   "metadata": {},
   "outputs": [
    {
     "name": "stdout",
     "output_type": "stream",
     "text": [
      "234\n",
      "151\n",
      "39\n",
      "82\n",
      "2\n",
      "225\n",
      "73\n",
      "145\n",
      "176\n"
     ]
    }
   ],
   "source": [
    "image_array = np.zeros((10, 10, 3))+ 255\n",
    "\n",
    "image_array[1:9, 5] = [R_1, G_1, B_1]\n",
    "image_array[1, 2:9] = [R_2, G_2, B_2]\n",
    "image_array[8, 2:9] = [R_3, G_3, B_3]\n",
    "\n",
    "print(R_1)\n",
    "print(G_1)\n",
    "print(B_1)\n",
    "\n",
    "print(R_2)\n",
    "print(G_2)\n",
    "print(B_2)\n",
    "\n",
    "\n",
    "print(R_3)\n",
    "print(G_3)\n",
    "print(B_3)"
   ]
  },
  {
   "cell_type": "code",
   "execution_count": 8,
   "metadata": {},
   "outputs": [
    {
     "name": "stderr",
     "output_type": "stream",
     "text": [
      "Clipping input data to the valid range for imshow with RGB data ([0..1] for floats or [0..255] for integers). Got range [2.0..255.0].\n"
     ]
    },
    {
     "data": {
      "text/plain": [
       "<matplotlib.image.AxesImage at 0x1da22f45950>"
      ]
     },
     "execution_count": 8,
     "metadata": {},
     "output_type": "execute_result"
    },
    {
     "data": {
      "image/png": "[encoded data removed]",
      "text/plain": [
       "<Figure size 640x480 with 1 Axes>"
      ]
     },
     "metadata": {},
     "output_type": "display_data"
    }
   ],
   "source": [
    "plt.imshow(image_array)"
   ]
  }
 ],
 "metadata": {
  "kernelspec": {
   "display_name": "Python 3",
   "language": "python",
   "name": "python3"
  },
  "language_info": {
   "codemirror_mode": {
    "name": "ipython",
    "version": 3
   },
   "file_extension": ".py",
   "mimetype": "text/x-python",
   "name": "python",
   "nbconvert_exporter": "python",
   "pygments_lexer": "ipython3",
   "version": "3.13.0"
  }
 },
 "nbformat": 4,
 "nbformat_minor": 2
}
